{
 "cells": [
  {
   "cell_type": "markdown",
   "metadata": {},
   "source": [
    "### Importing Libraries"
   ]
  },
  {
   "cell_type": "code",
   "execution_count": 34,
   "metadata": {},
   "outputs": [],
   "source": [
    "import numpy as np\n",
    "import pandas as pd\n",
    "import matplotlib.pyplot as plt\n",
    "import tensorflow as tf\n",
    "import yfinance as yf\n",
    "\n",
    "import os\n",
    "import math\n",
    "import datetime as dt\n",
    "\n",
    "from sklearn.metrics import mean_squared_error, mean_absolute_error, r2_score\n",
    "from sklearn.preprocessing import MinMaxScaler\n",
    "\n",
    "from tensorflow.keras.models import Sequential\n",
    "from tensorflow.keras.layers import Dense, Dropout\n",
    "from tensorflow.keras.layers import LSTM\n",
    "from utils import load_data, prepare_training_data\n",
    "\n",
    "from itertools import cycle\n",
    "import plotly.express as px\n",
    "import plotly.graph_objects as go\n",
    "from plotly.subplots import make_subplots"
   ]
  },
  {
   "cell_type": "markdown",
   "metadata": {},
   "source": [
    "### Importing Dataset"
   ]
  },
  {
   "cell_type": "code",
   "execution_count": 35,
   "metadata": {},
   "outputs": [],
   "source": [
    "crypto_currency = 'BTC'\n",
    "against_currency = 'USD'\n",
    "\n",
    "start = dt.datetime(2015,1,1)\n",
    "end = dt.datetime.now()"
   ]
  },
  {
   "cell_type": "code",
   "execution_count": 36,
   "metadata": {},
   "outputs": [
    {
     "name": "stderr",
     "output_type": "stream",
     "text": [
      "[*********************100%***********************]  1 of 1 completed\n"
     ]
    }
   ],
   "source": [
    "df = yf.download(f'{crypto_currency}-{against_currency}', start=start, end=end)"
   ]
  },
  {
   "cell_type": "code",
   "execution_count": 37,
   "metadata": {},
   "outputs": [
    {
     "name": "stdout",
     "output_type": "stream",
     "text": [
      "Total number of days in dataset : 3575\n",
      "Total number of fields in dataset : 6\n"
     ]
    }
   ],
   "source": [
    "print(\"Total number of days in dataset :\",df.shape[0])\n",
    "print(\"Total number of fields in dataset :\",df.shape[1])"
   ]
  },
  {
   "cell_type": "code",
   "execution_count": 38,
   "metadata": {},
   "outputs": [
    {
     "data": {
      "text/plain": [
       "(3575, 6)"
      ]
     },
     "execution_count": 38,
     "metadata": {},
     "output_type": "execute_result"
    }
   ],
   "source": [
    "df.shape"
   ]
  },
  {
   "cell_type": "code",
   "execution_count": 39,
   "metadata": {},
   "outputs": [
    {
     "name": "stdout",
     "output_type": "stream",
     "text": [
      "<class 'pandas.core.frame.DataFrame'>\n",
      "DatetimeIndex: 3575 entries, 2015-01-01 to 2024-10-14\n",
      "Data columns (total 6 columns):\n",
      " #   Column     Non-Null Count  Dtype  \n",
      "---  ------     --------------  -----  \n",
      " 0   Open       3575 non-null   float64\n",
      " 1   High       3575 non-null   float64\n",
      " 2   Low        3575 non-null   float64\n",
      " 3   Close      3575 non-null   float64\n",
      " 4   Adj Close  3575 non-null   float64\n",
      " 5   Volume     3575 non-null   int64  \n",
      "dtypes: float64(5), int64(1)\n",
      "memory usage: 195.5 KB\n"
     ]
    }
   ],
   "source": [
    "df.info()"
   ]
  },
  {
   "cell_type": "code",
   "execution_count": 40,
   "metadata": {},
   "outputs": [
    {
     "data": {
      "text/html": [
       "<div>\n",
       "<style scoped>\n",
       "    .dataframe tbody tr th:only-of-type {\n",
       "        vertical-align: middle;\n",
       "    }\n",
       "\n",
       "    .dataframe tbody tr th {\n",
       "        vertical-align: top;\n",
       "    }\n",
       "\n",
       "    .dataframe thead th {\n",
       "        text-align: right;\n",
       "    }\n",
       "</style>\n",
       "<table border=\"1\" class=\"dataframe\">\n",
       "  <thead>\n",
       "    <tr style=\"text-align: right;\">\n",
       "      <th></th>\n",
       "      <th>Open</th>\n",
       "      <th>High</th>\n",
       "      <th>Low</th>\n",
       "      <th>Close</th>\n",
       "      <th>Adj Close</th>\n",
       "      <th>Volume</th>\n",
       "    </tr>\n",
       "  </thead>\n",
       "  <tbody>\n",
       "    <tr>\n",
       "      <th>count</th>\n",
       "      <td>3575.000000</td>\n",
       "      <td>3575.000000</td>\n",
       "      <td>3575.000000</td>\n",
       "      <td>3575.000000</td>\n",
       "      <td>3575.000000</td>\n",
       "      <td>3.575000e+03</td>\n",
       "    </tr>\n",
       "    <tr>\n",
       "      <th>mean</th>\n",
       "      <td>18662.061581</td>\n",
       "      <td>19083.535346</td>\n",
       "      <td>18214.341707</td>\n",
       "      <td>18679.034080</td>\n",
       "      <td>18679.034080</td>\n",
       "      <td>1.822289e+10</td>\n",
       "    </tr>\n",
       "    <tr>\n",
       "      <th>std</th>\n",
       "      <td>19971.275440</td>\n",
       "      <td>20412.251654</td>\n",
       "      <td>19492.887427</td>\n",
       "      <td>19982.239104</td>\n",
       "      <td>19982.239104</td>\n",
       "      <td>1.918243e+10</td>\n",
       "    </tr>\n",
       "    <tr>\n",
       "      <th>min</th>\n",
       "      <td>176.897003</td>\n",
       "      <td>211.731003</td>\n",
       "      <td>171.509995</td>\n",
       "      <td>178.102997</td>\n",
       "      <td>178.102997</td>\n",
       "      <td>7.860650e+06</td>\n",
       "    </tr>\n",
       "    <tr>\n",
       "      <th>25%</th>\n",
       "      <td>2441.319946</td>\n",
       "      <td>2535.934937</td>\n",
       "      <td>2327.180054</td>\n",
       "      <td>2454.109985</td>\n",
       "      <td>2454.109985</td>\n",
       "      <td>1.022930e+09</td>\n",
       "    </tr>\n",
       "    <tr>\n",
       "      <th>50%</th>\n",
       "      <td>9426.110352</td>\n",
       "      <td>9595.581055</td>\n",
       "      <td>9255.035156</td>\n",
       "      <td>9428.333008</td>\n",
       "      <td>9428.333008</td>\n",
       "      <td>1.480883e+10</td>\n",
       "    </tr>\n",
       "    <tr>\n",
       "      <th>75%</th>\n",
       "      <td>30038.798828</td>\n",
       "      <td>30502.541016</td>\n",
       "      <td>29500.796875</td>\n",
       "      <td>30085.392578</td>\n",
       "      <td>30085.392578</td>\n",
       "      <td>2.919926e+10</td>\n",
       "    </tr>\n",
       "    <tr>\n",
       "      <th>max</th>\n",
       "      <td>73079.375000</td>\n",
       "      <td>73750.070312</td>\n",
       "      <td>71334.093750</td>\n",
       "      <td>73083.500000</td>\n",
       "      <td>73083.500000</td>\n",
       "      <td>3.509679e+11</td>\n",
       "    </tr>\n",
       "  </tbody>\n",
       "</table>\n",
       "</div>"
      ],
      "text/plain": [
       "               Open          High           Low         Close     Adj Close  \\\n",
       "count   3575.000000   3575.000000   3575.000000   3575.000000   3575.000000   \n",
       "mean   18662.061581  19083.535346  18214.341707  18679.034080  18679.034080   \n",
       "std    19971.275440  20412.251654  19492.887427  19982.239104  19982.239104   \n",
       "min      176.897003    211.731003    171.509995    178.102997    178.102997   \n",
       "25%     2441.319946   2535.934937   2327.180054   2454.109985   2454.109985   \n",
       "50%     9426.110352   9595.581055   9255.035156   9428.333008   9428.333008   \n",
       "75%    30038.798828  30502.541016  29500.796875  30085.392578  30085.392578   \n",
       "max    73079.375000  73750.070312  71334.093750  73083.500000  73083.500000   \n",
       "\n",
       "             Volume  \n",
       "count  3.575000e+03  \n",
       "mean   1.822289e+10  \n",
       "std    1.918243e+10  \n",
       "min    7.860650e+06  \n",
       "25%    1.022930e+09  \n",
       "50%    1.480883e+10  \n",
       "75%    2.919926e+10  \n",
       "max    3.509679e+11  "
      ]
     },
     "execution_count": 40,
     "metadata": {},
     "output_type": "execute_result"
    }
   ],
   "source": [
    "df.describe()"
   ]
  },
  {
   "cell_type": "code",
   "execution_count": 41,
   "metadata": {},
   "outputs": [
    {
     "data": {
      "text/html": [
       "<div>\n",
       "<style scoped>\n",
       "    .dataframe tbody tr th:only-of-type {\n",
       "        vertical-align: middle;\n",
       "    }\n",
       "\n",
       "    .dataframe tbody tr th {\n",
       "        vertical-align: top;\n",
       "    }\n",
       "\n",
       "    .dataframe thead th {\n",
       "        text-align: right;\n",
       "    }\n",
       "</style>\n",
       "<table border=\"1\" class=\"dataframe\">\n",
       "  <thead>\n",
       "    <tr style=\"text-align: right;\">\n",
       "      <th></th>\n",
       "      <th>Open</th>\n",
       "      <th>High</th>\n",
       "      <th>Low</th>\n",
       "      <th>Close</th>\n",
       "      <th>Adj Close</th>\n",
       "      <th>Volume</th>\n",
       "    </tr>\n",
       "    <tr>\n",
       "      <th>Date</th>\n",
       "      <th></th>\n",
       "      <th></th>\n",
       "      <th></th>\n",
       "      <th></th>\n",
       "      <th></th>\n",
       "      <th></th>\n",
       "    </tr>\n",
       "  </thead>\n",
       "  <tbody>\n",
       "    <tr>\n",
       "      <th>2015-01-01</th>\n",
       "      <td>320.434998</td>\n",
       "      <td>320.434998</td>\n",
       "      <td>314.002991</td>\n",
       "      <td>314.248993</td>\n",
       "      <td>314.248993</td>\n",
       "      <td>8036550</td>\n",
       "    </tr>\n",
       "    <tr>\n",
       "      <th>2015-01-02</th>\n",
       "      <td>314.079010</td>\n",
       "      <td>315.838989</td>\n",
       "      <td>313.565002</td>\n",
       "      <td>315.032013</td>\n",
       "      <td>315.032013</td>\n",
       "      <td>7860650</td>\n",
       "    </tr>\n",
       "    <tr>\n",
       "      <th>2015-01-03</th>\n",
       "      <td>314.846008</td>\n",
       "      <td>315.149994</td>\n",
       "      <td>281.082001</td>\n",
       "      <td>281.082001</td>\n",
       "      <td>281.082001</td>\n",
       "      <td>33054400</td>\n",
       "    </tr>\n",
       "    <tr>\n",
       "      <th>2015-01-04</th>\n",
       "      <td>281.145996</td>\n",
       "      <td>287.230011</td>\n",
       "      <td>257.612000</td>\n",
       "      <td>264.195007</td>\n",
       "      <td>264.195007</td>\n",
       "      <td>55629100</td>\n",
       "    </tr>\n",
       "    <tr>\n",
       "      <th>2015-01-05</th>\n",
       "      <td>265.084015</td>\n",
       "      <td>278.341003</td>\n",
       "      <td>265.084015</td>\n",
       "      <td>274.473999</td>\n",
       "      <td>274.473999</td>\n",
       "      <td>43962800</td>\n",
       "    </tr>\n",
       "  </tbody>\n",
       "</table>\n",
       "</div>"
      ],
      "text/plain": [
       "                  Open        High         Low       Close   Adj Close  \\\n",
       "Date                                                                     \n",
       "2015-01-01  320.434998  320.434998  314.002991  314.248993  314.248993   \n",
       "2015-01-02  314.079010  315.838989  313.565002  315.032013  315.032013   \n",
       "2015-01-03  314.846008  315.149994  281.082001  281.082001  281.082001   \n",
       "2015-01-04  281.145996  287.230011  257.612000  264.195007  264.195007   \n",
       "2015-01-05  265.084015  278.341003  265.084015  274.473999  274.473999   \n",
       "\n",
       "              Volume  \n",
       "Date                  \n",
       "2015-01-01   8036550  \n",
       "2015-01-02   7860650  \n",
       "2015-01-03  33054400  \n",
       "2015-01-04  55629100  \n",
       "2015-01-05  43962800  "
      ]
     },
     "execution_count": 41,
     "metadata": {},
     "output_type": "execute_result"
    }
   ],
   "source": [
    "df.head(5)"
   ]
  },
  {
   "cell_type": "code",
   "execution_count": 42,
   "metadata": {},
   "outputs": [
    {
     "data": {
      "text/html": [
       "<div>\n",
       "<style scoped>\n",
       "    .dataframe tbody tr th:only-of-type {\n",
       "        vertical-align: middle;\n",
       "    }\n",
       "\n",
       "    .dataframe tbody tr th {\n",
       "        vertical-align: top;\n",
       "    }\n",
       "\n",
       "    .dataframe thead th {\n",
       "        text-align: right;\n",
       "    }\n",
       "</style>\n",
       "<table border=\"1\" class=\"dataframe\">\n",
       "  <thead>\n",
       "    <tr style=\"text-align: right;\">\n",
       "      <th></th>\n",
       "      <th>Open</th>\n",
       "      <th>High</th>\n",
       "      <th>Low</th>\n",
       "      <th>Close</th>\n",
       "      <th>Adj Close</th>\n",
       "      <th>Volume</th>\n",
       "    </tr>\n",
       "    <tr>\n",
       "      <th>Date</th>\n",
       "      <th></th>\n",
       "      <th></th>\n",
       "      <th></th>\n",
       "      <th></th>\n",
       "      <th></th>\n",
       "      <th></th>\n",
       "    </tr>\n",
       "  </thead>\n",
       "  <tbody>\n",
       "    <tr>\n",
       "      <th>2024-10-10</th>\n",
       "      <td>60581.929688</td>\n",
       "      <td>61236.722656</td>\n",
       "      <td>58895.207031</td>\n",
       "      <td>60274.500000</td>\n",
       "      <td>60274.500000</td>\n",
       "      <td>30452813570</td>\n",
       "    </tr>\n",
       "    <tr>\n",
       "      <th>2024-10-11</th>\n",
       "      <td>60275.460938</td>\n",
       "      <td>63400.871094</td>\n",
       "      <td>60046.125000</td>\n",
       "      <td>62445.089844</td>\n",
       "      <td>62445.089844</td>\n",
       "      <td>30327141594</td>\n",
       "    </tr>\n",
       "    <tr>\n",
       "      <th>2024-10-12</th>\n",
       "      <td>62444.617188</td>\n",
       "      <td>63448.785156</td>\n",
       "      <td>62443.269531</td>\n",
       "      <td>63193.023438</td>\n",
       "      <td>63193.023438</td>\n",
       "      <td>16744110886</td>\n",
       "    </tr>\n",
       "    <tr>\n",
       "      <th>2024-10-13</th>\n",
       "      <td>63192.945312</td>\n",
       "      <td>63272.652344</td>\n",
       "      <td>62035.636719</td>\n",
       "      <td>62851.375000</td>\n",
       "      <td>62851.375000</td>\n",
       "      <td>18177529690</td>\n",
       "    </tr>\n",
       "    <tr>\n",
       "      <th>2024-10-14</th>\n",
       "      <td>62843.585938</td>\n",
       "      <td>65174.839844</td>\n",
       "      <td>62470.195312</td>\n",
       "      <td>65174.839844</td>\n",
       "      <td>65174.839844</td>\n",
       "      <td>32324804608</td>\n",
       "    </tr>\n",
       "  </tbody>\n",
       "</table>\n",
       "</div>"
      ],
      "text/plain": [
       "                    Open          High           Low         Close  \\\n",
       "Date                                                                 \n",
       "2024-10-10  60581.929688  61236.722656  58895.207031  60274.500000   \n",
       "2024-10-11  60275.460938  63400.871094  60046.125000  62445.089844   \n",
       "2024-10-12  62444.617188  63448.785156  62443.269531  63193.023438   \n",
       "2024-10-13  63192.945312  63272.652344  62035.636719  62851.375000   \n",
       "2024-10-14  62843.585938  65174.839844  62470.195312  65174.839844   \n",
       "\n",
       "               Adj Close       Volume  \n",
       "Date                                   \n",
       "2024-10-10  60274.500000  30452813570  \n",
       "2024-10-11  62445.089844  30327141594  \n",
       "2024-10-12  63193.023438  16744110886  \n",
       "2024-10-13  62851.375000  18177529690  \n",
       "2024-10-14  65174.839844  32324804608  "
      ]
     },
     "execution_count": 42,
     "metadata": {},
     "output_type": "execute_result"
    }
   ],
   "source": [
    "df.tail(5)"
   ]
  },
  {
   "cell_type": "markdown",
   "metadata": {},
   "source": [
    "### Preparing data"
   ]
  },
  {
   "cell_type": "code",
   "execution_count": 43,
   "metadata": {},
   "outputs": [],
   "source": [
    "scaler = MinMaxScaler(feature_range=(0,1))\n",
    "scaled_data = scaler.fit_transform(df['Close'].values.reshape(-1,1))"
   ]
  },
  {
   "cell_type": "code",
   "execution_count": 44,
   "metadata": {},
   "outputs": [],
   "source": [
    "prediction_days = 60"
   ]
  },
  {
   "cell_type": "code",
   "execution_count": 45,
   "metadata": {},
   "outputs": [],
   "source": [
    "x_train, y_train = [], []\n",
    "# x_train, y_train, scaler = prepare_training_data(df)"
   ]
  },
  {
   "cell_type": "code",
   "execution_count": 46,
   "metadata": {},
   "outputs": [],
   "source": [
    "for x in range (prediction_days, len(scaled_data)):\n",
    "    x_train.append(scaled_data[x - prediction_days : x , 0])\n",
    "    y_train.append(scaled_data[x, 0])"
   ]
  },
  {
   "cell_type": "code",
   "execution_count": 47,
   "metadata": {},
   "outputs": [],
   "source": [
    "x_train, y_train = np.array(x_train), np.array(y_train)\n",
    "x_train = np.reshape(x_train, (x_train.shape[0], x_train.shape[1], 1))"
   ]
  },
  {
   "cell_type": "markdown",
   "metadata": {},
   "source": [
    "### Creating Neural Network"
   ]
  },
  {
   "cell_type": "code",
   "execution_count": 48,
   "metadata": {},
   "outputs": [
    {
     "name": "stdout",
     "output_type": "stream",
     "text": [
      "Epoch 1/25\n",
      "110/110 [==============================] - 11s 51ms/step - loss: 0.0082\n",
      "Epoch 2/25\n",
      "110/110 [==============================] - 6s 52ms/step - loss: 0.0024\n",
      "Epoch 3/25\n",
      "110/110 [==============================] - 6s 51ms/step - loss: 0.0024\n",
      "Epoch 4/25\n",
      "110/110 [==============================] - 6s 51ms/step - loss: 0.0021\n",
      "Epoch 5/25\n",
      "110/110 [==============================] - 6s 51ms/step - loss: 0.0022\n",
      "Epoch 6/25\n",
      "110/110 [==============================] - 6s 51ms/step - loss: 0.0018\n",
      "Epoch 7/25\n",
      "110/110 [==============================] - 6s 51ms/step - loss: 0.0018\n",
      "Epoch 8/25\n",
      "110/110 [==============================] - 6s 51ms/step - loss: 0.0016\n",
      "Epoch 9/25\n",
      "110/110 [==============================] - 6s 52ms/step - loss: 0.0015\n",
      "Epoch 10/25\n",
      "110/110 [==============================] - 6s 52ms/step - loss: 0.0017\n",
      "Epoch 11/25\n",
      "110/110 [==============================] - 6s 52ms/step - loss: 0.0015\n",
      "Epoch 12/25\n",
      "110/110 [==============================] - 6s 51ms/step - loss: 0.0016\n",
      "Epoch 13/25\n",
      "110/110 [==============================] - 6s 51ms/step - loss: 0.0014\n",
      "Epoch 14/25\n",
      "110/110 [==============================] - 6s 52ms/step - loss: 0.0013\n",
      "Epoch 15/25\n",
      "110/110 [==============================] - 6s 51ms/step - loss: 0.0013\n",
      "Epoch 16/25\n",
      "110/110 [==============================] - 6s 51ms/step - loss: 0.0013\n",
      "Epoch 17/25\n",
      "110/110 [==============================] - 6s 52ms/step - loss: 0.0012\n",
      "Epoch 18/25\n",
      "110/110 [==============================] - 6s 52ms/step - loss: 0.0013\n",
      "Epoch 19/25\n",
      "110/110 [==============================] - 7s 60ms/step - loss: 0.0013\n",
      "Epoch 20/25\n",
      "110/110 [==============================] - 7s 61ms/step - loss: 0.0012\n",
      "Epoch 21/25\n",
      "110/110 [==============================] - 6s 54ms/step - loss: 0.0012\n",
      "Epoch 22/25\n",
      "110/110 [==============================] - 6s 55ms/step - loss: 0.0011\n",
      "Epoch 23/25\n",
      "110/110 [==============================] - 6s 54ms/step - loss: 0.0012\n",
      "Epoch 24/25\n",
      "110/110 [==============================] - 6s 54ms/step - loss: 0.0012\n",
      "Epoch 25/25\n",
      "110/110 [==============================] - 6s 58ms/step - loss: 0.0011\n"
     ]
    },
    {
     "data": {
      "text/plain": [
       "<keras.src.callbacks.History at 0x230237bb010>"
      ]
     },
     "execution_count": 48,
     "metadata": {},
     "output_type": "execute_result"
    }
   ],
   "source": [
    "model = Sequential()\n",
    "model.add(LSTM(units=50, return_sequences=True, input_shape=(x_train.shape[1], 1)))\n",
    "model.add(Dropout(0.2))\n",
    "model.add(LSTM(units=50, return_sequences=True))\n",
    "model.add(Dropout(0.2))\n",
    "model.add(LSTM(units=50))\n",
    "model.add(Dropout(0.2))\n",
    "model.add(Dense(units=1))\n",
    "\n",
    "model.compile(optimizer='adam', loss='mean_squared_error')\n",
    "model.fit(x_train, y_train, epochs=25, batch_size=32)"
   ]
  },
  {
   "cell_type": "code",
   "execution_count": 49,
   "metadata": {},
   "outputs": [
    {
     "name": "stdout",
     "output_type": "stream",
     "text": [
      "Model trained and saved successfully!\n"
     ]
    },
    {
     "name": "stderr",
     "output_type": "stream",
     "text": [
      "c:\\Users\\Vaishali Premani\\AppData\\Local\\Programs\\Python\\Python311\\Lib\\site-packages\\keras\\src\\engine\\training.py:3103: UserWarning:\n",
      "\n",
      "You are saving your model as an HDF5 file via `model.save()`. This file format is considered legacy. We recommend using instead the native Keras format, e.g. `model.save('my_model.keras')`.\n",
      "\n"
     ]
    }
   ],
   "source": [
    "model.save('model/lstm_bitcoin_model.h5')\n",
    "print(\"Model trained and saved successfully!\")"
   ]
  },
  {
   "cell_type": "markdown",
   "metadata": {},
   "source": [
    "### Testing the model"
   ]
  },
  {
   "cell_type": "code",
   "execution_count": 50,
   "metadata": {},
   "outputs": [
    {
     "name": "stderr",
     "output_type": "stream",
     "text": [
      "[*********************100%***********************]  1 of 1 completed\n"
     ]
    }
   ],
   "source": [
    "test_start = dt.datetime(2022,1,1)\n",
    "test_end = dt.datetime.now()\n",
    "\n",
    "test_df = yf.download(f'{crypto_currency}-{against_currency}', start=test_start, end=test_end)\n",
    "actual_prices = test_df['Close'].values"
   ]
  },
  {
   "cell_type": "code",
   "execution_count": 51,
   "metadata": {},
   "outputs": [],
   "source": [
    "total_dataset = pd.concat((df['Close'], test_df['Close']), axis=0)"
   ]
  },
  {
   "cell_type": "code",
   "execution_count": 52,
   "metadata": {},
   "outputs": [],
   "source": [
    "model_inputs = total_dataset[len(total_dataset) - len(test_df) - prediction_days:].values\n",
    "model_inputs = model_inputs.reshape(-1,1)\n",
    "model_inputs = scaler.fit_transform(model_inputs)"
   ]
  },
  {
   "cell_type": "code",
   "execution_count": 53,
   "metadata": {},
   "outputs": [],
   "source": [
    "x_test = []\n",
    "\n",
    "for x in range (prediction_days, len(model_inputs)):\n",
    "    x_test.append(model_inputs[x - prediction_days : x , 0])\n",
    "    \n",
    "x_test = np.array(x_test)\n",
    "x_test = np.reshape(x_test, (x_test.shape[0], x_test.shape[1], 1))"
   ]
  },
  {
   "cell_type": "code",
   "execution_count": 54,
   "metadata": {},
   "outputs": [
    {
     "name": "stdout",
     "output_type": "stream",
     "text": [
      "32/32 [==============================] - 2s 21ms/step\n"
     ]
    }
   ],
   "source": [
    "prediction_prices = model.predict(x_test)\n",
    "prediction_prices = scaler.inverse_transform(prediction_prices)"
   ]
  },
  {
   "cell_type": "code",
   "execution_count": 55,
   "metadata": {},
   "outputs": [
    {
     "data": {
      "image/png": "[encoded data removed]",
      "text/plain": [
       "<Figure size 1100x700 with 1 Axes>"
      ]
     },
     "metadata": {},
     "output_type": "display_data"
    }
   ],
   "source": [
    "plt.figure(figsize=(11,7))\n",
    "plt.plot(actual_prices, color='red', label='Actual Prices')\n",
    "plt.plot(prediction_prices, color='green', label='Predicted Prices')\n",
    "plt.title(f'{crypto_currency} Price Prediction')\n",
    "plt.xlabel('Time')\n",
    "plt.ylabel('Prices')\n",
    "plt.legend(loc='best')\n",
    "plt.show()"
   ]
  },
  {
   "cell_type": "markdown",
   "metadata": {},
   "source": [
    "### Model Performance matrix"
   ]
  },
  {
   "cell_type": "code",
   "execution_count": 56,
   "metadata": {},
   "outputs": [
    {
     "name": "stdout",
     "output_type": "stream",
     "text": [
      "Mean Absolute Error :  1309.0140392850565\n",
      "Root Mean Square Error :  1995.1988943132076\n",
      "R2 Score :  0.9854235553847781\n"
     ]
    }
   ],
   "source": [
    "mae = mean_absolute_error(actual_prices, prediction_prices)\n",
    "rmse = np.sqrt(mean_squared_error(actual_prices, prediction_prices))\n",
    "r2 = r2_score(actual_prices, prediction_prices)\n",
    "\n",
    "print(\"Mean Absolute Error : \", mae)\n",
    "print(\"Root Mean Square Error : \", rmse)\n",
    "print(\"R2 Score : \", r2)"
   ]
  },
  {
   "cell_type": "markdown",
   "metadata": {},
   "source": [
    "### BACKTESTING"
   ]
  },
  {
   "cell_type": "code",
   "execution_count": 57,
   "metadata": {},
   "outputs": [],
   "source": [
    "def backtest(model, data, window_size=300, prediction_days=60):\n",
    "    results = []\n",
    "\n",
    "    for i in range(0, len(data) - window_size - prediction_days, window_size):\n",
    "        x_test = []\n",
    "        window_data = data[i : i + window_size + prediction_days]\n",
    "\n",
    "        for j in range(prediction_days, len(window_data)):\n",
    "            x_test.append(window_data[j - prediction_days : j, 0])\n",
    "\n",
    "        # x_test = np.array(x_test)\n",
    "        # x_test = np.reshape(x_test, (x_test.shape[0], x_test.shape[1], 1))\n",
    "        x_test = np.array(x_test).reshape(-1, prediction_days, 1)\n",
    "\n",
    "        # Predict prices for this window\n",
    "        # predicted_prices = model.predict(x_test)\n",
    "        # predicted_prices = scaler.inverse_transform(predicted_prices)\n",
    "        \n",
    "        predicted_prices = model.predict(x_test)\n",
    "        predictions_placeholder = np.zeros((len(predicted_prices), data.shape[1]))\n",
    "        predictions_placeholder[:, 0] = predicted_prices.flatten()\n",
    "        predicted_prices_original = scaler.inverse_transform(predictions_placeholder)[:, 0]\n",
    "\n",
    "        # # Actual prices for this window\n",
    "        # actual_prices = scaler.inverse_transform(window_data[prediction_days:])\n",
    "        \n",
    "        # Actual prices\n",
    "        actual_prices_original = scaler.inverse_transform(window_data[prediction_days:])[:, 0]\n",
    "\n",
    "        # Calculate metrics\n",
    "        mae = mean_absolute_error(actual_prices_original, predicted_prices_original)\n",
    "        rmse = np.sqrt(mean_squared_error(actual_prices_original, predicted_prices_original))\n",
    "        r2 = r2_score(actual_prices_original, predicted_prices_original)\n",
    "\n",
    "        # Store results for this window\n",
    "        results.append({\n",
    "            \"Window Start\": i,\n",
    "            \"MAE\": mae,\n",
    "            \"RMSE\": rmse,\n",
    "            \"R²\": r2\n",
    "        })\n",
    "\n",
    "    # Convert results to a DataFrame for analysis\n",
    "    return pd.DataFrame(results)"
   ]
  },
  {
   "cell_type": "code",
   "execution_count": 58,
   "metadata": {},
   "outputs": [
    {
     "name": "stdout",
     "output_type": "stream",
     "text": [
      "10/10 [==============================] - 0s 16ms/step\n",
      "10/10 [==============================] - 0s 18ms/step\n",
      "10/10 [==============================] - 0s 19ms/step\n",
      "10/10 [==============================] - 0s 21ms/step\n",
      "10/10 [==============================] - 0s 19ms/step\n",
      "10/10 [==============================] - 0s 21ms/step\n",
      "10/10 [==============================] - 0s 20ms/step\n",
      "10/10 [==============================] - 0s 18ms/step\n",
      "10/10 [==============================] - 0s 17ms/step\n",
      "10/10 [==============================] - 0s 21ms/step\n",
      "10/10 [==============================] - 0s 16ms/step\n"
     ]
    }
   ],
   "source": [
    "data = scaler.fit_transform(df['Close'].values.reshape(-1, 1))\n",
    "backtest_results = backtest(model, data)"
   ]
  },
  {
   "cell_type": "code",
   "execution_count": 59,
   "metadata": {},
   "outputs": [
    {
     "name": "stdout",
     "output_type": "stream",
     "text": [
      "    Window Start          MAE         RMSE        R²\n",
      "0              0    61.929003    63.674859 -0.148285\n",
      "1            300    64.105451    67.371619  0.590059\n",
      "2            600   128.840853   175.816960  0.957432\n",
      "3            900   679.861092  1007.046909  0.919774\n",
      "4           1200   217.057083   306.174939  0.955088\n",
      "5           1500   406.398991   567.874204  0.890239\n",
      "6           1800   386.300358   564.727164  0.956617\n",
      "7           2100  2236.492803  2909.269085  0.932534\n",
      "8           2400  2003.584813  2564.311286  0.956724\n",
      "9           2700   817.017704  1102.281434  0.925424\n",
      "10          3000  1126.888800  1480.520288  0.980080\n"
     ]
    }
   ],
   "source": [
    "# Display backtest results\n",
    "print(backtest_results)\n"
   ]
  },
  {
   "cell_type": "code",
   "execution_count": 60,
   "metadata": {},
   "outputs": [
    {
     "name": "stdout",
     "output_type": "stream",
     "text": [
      "Average Mean Absolute Error :  738.9524500474018\n",
      "Average Root Mean Square Error :  982.6426133782675\n",
      "Average R2 Score :  0.8105169032697792\n"
     ]
    }
   ],
   "source": [
    "print(\"Average Mean Absolute Error : \", backtest_results['MAE'].mean())\n",
    "print(\"Average Root Mean Square Error : \", backtest_results['RMSE'].mean())\n",
    "print(\"Average R2 Score : \", backtest_results['R²'].mean())"
   ]
  },
  {
   "cell_type": "markdown",
   "metadata": {},
   "source": [
    "### Equity Curve"
   ]
  },
  {
   "cell_type": "code",
   "execution_count": 61,
   "metadata": {},
   "outputs": [
    {
     "data": {
      "application/vnd.plotly.v1+json": {
       "config": {
        "plotlyServerURL": "https://plot.ly"
       },
       "data": [
        {
         "mode": "lines",
         "name": "Equity Curve",
         "type": "scatter",
         "y": [
          -0.007163274962024354,
          -0.025900152431832222,
          -0.0379657074453449,
          -0.08869976806044243,
          -0.09806592707633541,
          -0.13520663176820535,
          -0.13097063686538574,
          -0.1267136663933039,
          -0.12886915175730942,
          -0.10700004230406798,
          -0.1353894609887406,
          -0.10450074650456724,
          -0.09257047714558868,
          -0.09076769846827953,
          -0.09223882765967686,
          -0.1122631944506419,
          -0.1093027115945105,
          -0.12420053483866927,
          -0.14968687523596128,
          -0.25349853139308615,
          -0.29264201607385526,
          -0.2570569235466823,
          -0.2466501790510712,
          -0.2384744520201996,
          -0.2412314688987622,
          -0.23346764763804992,
          -0.25086474976536394,
          -0.26022968060382223,
          -0.25444602425715357,
          -0.26936056036165484,
          -0.2761206256500118,
          -0.2299115962197014,
          -0.22445555008675627,
          -0.10747748398668329,
          -0.10603869655147861,
          -0.12947600950400978,
          -0.1631418815493812,
          -0.1694867343544808,
          -0.17448127940109803,
          -0.15703192018796536,
          -0.1835939027949987,
          -0.18744857622730132,
          -0.18856003830480703,
          -0.17933195134323013,
          -0.13264425354577528,
          -0.11888450132927879,
          -0.04100227102950545,
          -0.053509918414083056,
          -0.051232190131395725,
          -0.09337292985671894,
          -0.12865913854462685,
          -0.09600271483239944,
          -0.12184653044602235,
          -0.09406813007785847,
          -0.07106919028809885,
          -0.06828779323425598,
          -0.0326054512152723,
          0.11280638807337387,
          0.08591786350337285,
          0.09562416622838214,
          0.12914397765031774,
          0.20721332801080938,
          0.21393270865763972,
          0.18904471424924438,
          0.17972807036396168,
          0.1974683303547949,
          0.28125472751894387,
          0.34188568156471527,
          0.3255943619417759,
          0.32840501123559446,
          0.3013037533017796,
          0.3493118370921534,
          0.35757993865587434,
          0.4034670834693233,
          0.4081470151800879,
          0.38739613043710047,
          0.3780782998148913,
          0.4004251485272144,
          0.3963078859026612,
          0.42748790006588555,
          0.4148778089128777,
          0.3899791626917296,
          0.3811577650712038,
          0.3777281819773388,
          0.3256018697212116,
          0.31903398236286173,
          0.3118678277518617,
          0.3203595627840523,
          0.3527416710137547,
          0.3690567864020223,
          0.36013974560366985,
          0.3728851255929072,
          0.37652552154272706,
          0.3536464487337189,
          0.3020779548113188,
          0.3089544140586241,
          0.28099864326428436,
          0.2926917142156423,
          0.27926403416481793,
          0.21563177462669336,
          0.2309468585195546,
          0.25685315898470645,
          0.2269451524529605,
          0.24241882817941485,
          0.23923832389335806,
          0.22173578153718237,
          0.24966495614578976,
          0.2662360528991683,
          0.2693291273038764,
          0.2898011113527306,
          0.2703810725190144,
          0.26399989990249084,
          0.26355829585492857,
          0.2886161459102376,
          0.23075787803861397,
          0.2602367606455229,
          0.27381198521612893,
          0.24454641131683508,
          0.22136709784263936,
          0.2413650098070831,
          0.24293079597796213,
          0.22271567575907045,
          0.27431553238330797,
          0.35298955307232593,
          0.338383491663642,
          0.32342913639300563,
          0.28279228762808295,
          0.17232858763455144,
          0.19628984611506078,
          0.1290314543823391,
          0.13288116118094762,
          0.1409833910154557,
          0.16892312455286718,
          0.20891638168854618,
          0.254985383245675,
          0.2361345980104851,
          0.29219171790856724,
          0.34769476219097367,
          0.38442965303746174,
          0.3923570660505228,
          0.4226468605333455,
          0.46303809197562207,
          0.48216856037670186,
          0.4790249836633139,
          0.46904145374585726,
          0.4471859345033492,
          0.45372949178988686,
          0.47562985000977215,
          0.5530745596970766,
          0.55099679665576,
          0.6136921602346718,
          0.6361226581350303,
          0.6110763645513345,
          0.6154031133852874,
          0.6178751496979485,
          0.6668277797263618,
          0.6736874784995491,
          0.7038947836578702,
          0.7005070753885058,
          0.6663614382317012,
          0.6415024437365369,
          0.5851513705987101,
          0.42540411032253816,
          0.41292619626949645,
          0.4294097504465949,
          0.332337806096992,
          0.3367453015415866,
          0.26572749180073046,
          0.3464750870897677,
          0.34872609735035676,
          0.3433346875198681,
          0.37827179418306683,
          0.32329375618010026,
          0.31638015722478646,
          0.3036311923094846,
          0.325723811780278,
          0.3396017931057037,
          0.317666261226984,
          0.30895788842869515,
          0.29307565092570775,
          0.2670273063417188,
          0.2656203411901809,
          0.2684692957462701,
          0.3168800258773224,
          0.3189138330094236,
          0.3011759025807127,
          0.24816204476019843,
          0.24383950671447088,
          0.25023173013545097,
          0.28412163362891696,
          0.326780953607757,
          0.29440115620093005,
          0.34036286734171617,
          0.3580674185546263,
          0.3710187671323954,
          0.35402977180047435,
          0.37342413328007856,
          0.2913067322854008,
          0.2511147629660256,
          0.25785717386036805,
          0.26074561603103524,
          0.2801566928259534,
          0.29114063453773514,
          0.2975364719010508,
          0.24236137178781547,
          0.23665268479496696,
          0.3162578878184101,
          0.2764272715749487,
          0.27807355964505315,
          0.28430872329656137,
          0.2978066837453006,
          0.2987792751796499,
          0.31319461186338693,
          0.30746701573677326,
          0.2980322792326645,
          0.32712329031831616,
          0.3412085119726609,
          0.35055517447130524,
          0.32321660468872543,
          0.3503137020329841,
          0.3164977180442744,
          0.31608487077892267,
          0.29749826875572977,
          0.29662746769959536,
          0.3009156302390602,
          0.3084142454660301,
          0.2979041602023211,
          0.2749888522411214,
          0.26970689406742737,
          0.16910758007950216,
          0.18292662372751414,
          0.2003158089308675,
          0.19403680223092637,
          0.2000735442120493,
          0.19389239333366828,
          0.2035154163612603,
          0.2655908159462205,
          0.254816825839088,
          0.23361488106952993,
          0.26833915748697273,
          0.24364777451569122,
          0.25642534302766135,
          0.26028458817345534,
          0.26810334114771195,
          0.2749979415119539,
          0.28279464959699085,
          0.2915175345370541,
          0.2423208422084171,
          0.2663501568109951,
          0.26839832174471856,
          0.3745202036518862,
          0.3605178377392971,
          0.35642583630800195,
          0.32880921205320024,
          0.421509281114034,
          0.41876907367967686,
          0.39209665087944395,
          0.39571942549474165,
          0.41367318347501003,
          0.37849406868972296,
          0.384911484651666,
          0.35148252770587607,
          0.3333049560470691,
          0.3800042439463483,
          0.3859749244612673,
          0.4046625452244537,
          0.3975381866137222,
          0.41990665987873566,
          0.42573961591778786,
          0.4091951480805743,
          0.40166273536094005,
          0.408879889208276,
          0.4150395566990058,
          0.4289162630580487,
          0.4593441872139684,
          0.422996911689555,
          0.43165739781464507,
          0.44183924995652024,
          0.46231455299247326,
          0.4556494763891563,
          0.45718720547301805,
          0.4415061024425568,
          0.4368008034967952,
          0.4423661290764406,
          0.4541348686289889,
          0.46431126138488776,
          0.45815971343484047,
          0.46867276273744124,
          0.4540027042372328,
          0.46506835186837886,
          0.47514783185978426,
          0.4706652296871299,
          0.4768964742703221,
          0.47875959912872096,
          0.46007911077500874,
          0.4713958920119202,
          0.43261259080231085,
          0.39904428016926,
          0.4223757760807614,
          0.40711805508007853,
          0.3962842997385933,
          0.4050684702001537,
          0.41184462666289645,
          0.4113323259179639,
          0.3954297053235201,
          0.3979339522154463,
          0.44430914919512665,
          0.4379035379402545,
          0.45464038157180736,
          0.47010737955703485,
          0.37004606360755055,
          0.22655583893878742,
          0.33398073756237545,
          0.3025663010857401,
          0.2887642946093743,
          0.262226084691041,
          0.2784205486793041,
          0.29445201267808746,
          0.3071957945190341,
          0.30611128744542576,
          0.30549647067732544,
          0.3046718380950043,
          0.32978709803409956,
          0.2988177232827084,
          0.3243119974708143,
          0.35031221317416283,
          0.35068800617853385,
          0.3556639597941723,
          0.3591478659822758,
          0.3603416196953327,
          0.3741640486350664,
          0.38820213411682064,
          0.3442018447998498,
          0.3559345421598734,
          0.3487720271319679,
          0.3593301297845631,
          0.34618564826165515,
          0.35527238130988364,
          0.3485166282191683,
          0.36264090909058216,
          0.38551274863227825,
          0.3913341089730667,
          0.3915925397793868,
          0.3930247100407134,
          0.3870469864219051,
          0.35363618541356157,
          0.35170539318791655,
          0.3770081548814898,
          0.41832035913372284,
          0.4271870094065212,
          0.42497712363609,
          0.40598337019498154,
          0.43436743903756375,
          0.4291167628613776,
          0.4298782680704356,
          0.431862106086203,
          0.42883758527002075,
          0.42918003629424956,
          0.42455953857747797,
          0.43653549593144786,
          0.426689240566018,
          0.43211253851690057,
          0.42972370046392505,
          0.4264055520768374,
          0.4310941154664552,
          0.4349070670253117,
          0.4354231886881784,
          0.42442903839439333,
          0.4260006198832505,
          0.419156513066509,
          0.41897309041832836,
          0.41094797810407885,
          0.40478044754126224,
          0.3902578710258901,
          0.3622517200057168,
          0.3101359240174707,
          0.2550215074147797,
          0.20144303317647058,
          0.205995790590088,
          0.19216327456651708,
          0.19254652548644846,
          0.21488604985528642,
          0.1956480041753361,
          0.1202567501339569,
          0.11579962356763422,
          0.11831125436210907,
          0.1088917250342649,
          0.12188367073817336,
          0.1006175169790982,
          0.10429787638737494,
          0.10230284247595353,
          0.10436702343127553,
          0.07208559135211759,
          0.11138926227540105,
          0.12448657904512636,
          0.14974606193377799,
          0.16036403886059766,
          0.16132471336477064,
          0.1663344363769879,
          0.15021133947667745,
          0.1416924561433909,
          0.16384444286357774,
          0.14987915254345613,
          0.10103918936602156,
          0.09334611597863805,
          0.10349297032028328,
          0.09971297180627778,
          0.10062623837469747,
          0.11955054152035327,
          0.025627880359975347,
          0.053782053536632346,
          0.013901089000148963,
          0.010820530152140902,
          0.023548553998053667,
          0.0029339030813246673,
          0.018753814217775618,
          0.02888256626200915,
          0.018904761411374236,
          -0.012387251485331086,
          -0.013368018302021651,
          0.0032805964722808136,
          0.001653269515345749,
          -0.01431066518583852,
          0.007255397011640354,
          0.014490447313803542,
          0.06189257648139614,
          0.0614753600182808,
          0.06515105354680417,
          0.06489450228351772,
          0.05553246266608705,
          0.032953945259800665,
          -0.029439166326285127,
          -0.038071350105341586,
          -0.016019503279496562,
          0.058210266820147565,
          -0.0335416120667907,
          -0.056210906949880624,
          -0.04125446262750941,
          -0.06902067569026367,
          -0.16366645022197904,
          -0.14696385557308805,
          -0.18674734932568193,
          -0.17706645514784358,
          -0.19178092198555172,
          -0.16096091330401535,
          -0.12336913427861247,
          -0.09369848024787392,
          -0.09364676307431975,
          -0.07547515476050368,
          -0.10599709987815689,
          -0.10127187093376196,
          -0.06165380717844663,
          -0.05054635679916128,
          -0.06641739976774581,
          -0.06404897250659526,
          -0.05659670752098021,
          -0.04208968905047527,
          -0.02849249078919954,
          -0.02814122340454955,
          -0.03289116393325353,
          -0.03710884532280404,
          -0.036323353045540865,
          -0.02253851383185905,
          -0.06912473208596573,
          -0.08875439884453751,
          -0.08557908304095425,
          -0.09420621788047899,
          -0.09705606896939889,
          -0.0915714276692196,
          -0.09146783991241633,
          -0.12017641130859022,
          -0.08782774907943625,
          -0.13963695426897305,
          -0.15964520514996602,
          -0.19395372766830485,
          -0.17413513968845867,
          -0.1822636643357131,
          -0.1846573434654856,
          -0.15623779199253177,
          -0.16030396239041386,
          -0.1972844707222566,
          -0.192754160785176,
          -0.1896262596648751,
          -0.19032094033279956,
          -0.15009933869031927,
          -0.12913330566342196,
          -0.11777468001660613,
          -0.12324237528494417,
          -0.0994389674647288,
          -0.07811596636795369,
          -0.09367211219697232,
          -0.12040574960623224,
          -0.12168753253349016,
          -0.12302596963806811,
          -0.1455070457882014,
          -0.15275864231272426,
          -0.1535387996338854,
          -0.1480668716402838,
          -0.13833614483900386,
          -0.13259772949750911,
          -0.14599259678016543,
          -0.12531308915740563,
          -0.1231544923043203,
          -0.11424947618911886,
          -0.1281000291054317,
          -0.12445751564776987,
          -0.11051221189345302,
          -0.07778918424238884,
          -0.07242029694096318,
          -0.0632390730561338,
          -0.05766023865095326,
          -0.012354411926509705,
          -0.0002570682196799193,
          0.0013119989273132336,
          0.018736203482389968,
          0.004052494234743596,
          0.020071048504219483,
          0.013668715900302709,
          0.01529151519156878,
          -0.034819677046479834,
          0.022582494583728893,
          0.05535874415377482,
          0.061515988594140265,
          0.06046568041655352,
          0.03670715110475185,
          0.040147130524259576,
          0.03869502085421509,
          0.03932154399387343,
          0.008685290602959268,
          0.026664378330614958,
          0.05603006388325696,
          0.04907106098251635,
          0.05565191512839184,
          0.03610406258072121,
          -0.01888299091546765,
          -0.07888861431819995,
          -0.07505824538826276,
          -0.10124105282626117,
          -0.09645945334343847,
          -0.09421930550570093,
          -0.08735811575264993,
          -0.07358151767766112,
          -0.0931955280669475,
          -0.08125965984227726,
          -0.08021186801239764,
          -0.07650988818664005,
          -0.07550657573596288,
          -0.05801289644327487,
          -0.045853053132392296,
          -0.0372943555921651,
          -0.05711557976359726,
          -0.042640911820155426,
          -0.044279702080235094,
          -0.048284207366286525,
          -0.04022234535885913,
          -0.03343345625520017,
          -0.025944966227149903,
          0.009735968147613724,
          0.04601690273968358,
          0.04475555796071413,
          0.043214954382184124,
          0.03980182709470249,
          0.030204293745323053,
          0.03212552389782303,
          0.02805022425390329,
          0.031968338324944764,
          0.027389697188890085,
          0.03789414433020846,
          0.007725058309331356,
          0.009455008429761134,
          0.013820161408586112,
          0.00890504175187335,
          0.012621374459432448,
          0.013906259987509875,
          0.01112635730539345,
          0.009582487478017859,
          0.02482776276101778,
          0.04247765358945471,
          0.0433942541904408,
          0.03980985997709314,
          0.038710432900460064,
          0.03870108494962168,
          0.04347773072555256,
          0.06352236657870189,
          0.07037587484894876,
          0.07483783956299658,
          0.07375467968279788,
          0.07437547623440059,
          0.06985239558901869,
          0.07413917171406816,
          0.06604300354170216,
          0.04997982990741038,
          -0.02099934161199469,
          -0.04406345192348181,
          -0.042272694478218784,
          -0.03869443833061231,
          -0.041193269904800135,
          -0.04473345812869506,
          -0.029368151704905754,
          -0.01918083182017953,
          -0.014796478844267007,
          -0.0163016069874864,
          -0.0131783747883517,
          -0.01254758810093031,
          0.049554336665511144,
          0.065067044970595,
          0.11510110286902232,
          0.1100590426432801,
          0.11269750415087917,
          0.1165928368562943,
          0.11054150784422503,
          0.10928499649207703,
          0.1082475212404529,
          0.12715617327045795,
          0.13990535488442388,
          0.1395202434957799,
          0.1370699823932959,
          0.11114994549655385,
          0.13780410706520418,
          0.15309366743231695,
          0.1412229277396749,
          0.13862231057697044,
          0.1401410664523228,
          0.14142431656847398,
          0.13312959301607577,
          0.1160543468814034,
          0.11896159153640568,
          0.13976266913818886,
          0.1402119205622519,
          0.1402052336825932,
          0.12806934773712675,
          0.12965576555481478,
          0.12656697611519205,
          0.1317340625516032,
          0.15711399143257201,
          0.16117838391102815,
          0.15909024866616903,
          0.1214220067528364,
          0.13760871667377267,
          0.1412703136842784,
          0.127802712336557,
          0.14159734449820058,
          0.16095418897442465,
          0.16015830720829397,
          0.16136500724263744,
          0.17394460198675896,
          0.16696010176962844,
          0.1480597750344602,
          0.14372382089779176,
          0.14766959081418493,
          0.14764472448162871,
          0.15873654795187134,
          0.20880399491011348,
          0.21244076521647015,
          0.21551674441841878,
          0.2016979036773351,
          0.16816207280712975,
          0.16022947524447706,
          0.15770646784943063,
          0.054607562635967596,
          0.02996610723462291,
          0.012229650624479862,
          0.022262797824176624,
          0.02948972632981391,
          0.024188207790683963,
          0.037356640083777606,
          0.03631093144200113,
          0.0411053267534636,
          0.06330093975508885,
          0.0773824969793068,
          0.07148872683354737,
          0.08156208361630839,
          0.0806260006985356,
          0.08028407215691989,
          0.09187716243652871,
          0.085903867744439,
          0.056796040416546296,
          0.039876147384813515,
          0.04459068123482109,
          0.04683989055633381,
          0.06174128637754615,
          0.035312448255691214,
          0.10124089384309436,
          0.14680018589875157,
          0.15902302864479745,
          0.15872298865013862,
          0.18061251602272482,
          0.1781942622976006,
          0.222572052358389,
          0.2677648768796544,
          0.2715775893789461,
          0.2831266516546736,
          0.2810982542988082,
          0.28950298523094437,
          0.2835008934412969,
          0.2989868913901422,
          0.299711328696681,
          0.2958615690964262,
          0.3217415170541738,
          0.3013846424782312,
          0.2886666778671178,
          0.2385969526991853,
          0.18856012814365047,
          0.19614175719962618,
          0.2065147428618541,
          0.18632800871358524,
          0.1963042616266939,
          0.19753270381084997,
          0.13960934589033833,
          0.1446135032354565,
          0.1793665018670041,
          0.18247277753291757,
          0.15704009951193418,
          0.16444198760267523,
          0.14371635559000953,
          0.17414994011272925,
          0.1658678563976166,
          0.1985554698029009,
          0.19358660007110012,
          0.19065173597819174,
          0.19652381990122678,
          0.17998442026079486,
          0.1938634841218513,
          0.16880823092085576,
          0.19050259584107834,
          0.17174231889320923,
          0.15934542209441524,
          0.160711237208143,
          0.16327985943202075,
          0.20828485393843338,
          0.19038391488713194,
          0.2373120352495538,
          0.2683926138148789,
          0.26878262058761043,
          0.2648540535500171,
          0.26380612221318495,
          0.3326999055709773,
          0.3503870361829496,
          0.3398094521779769,
          0.34536818607042014,
          0.2695535391996181,
          0.2693018622113995,
          0.24488414282757526,
          0.26200766190659,
          0.2771322628461783,
          0.2675784801738926,
          0.2329387545412249,
          0.24157496098352724,
          0.24270858650528782,
          0.23983329317736712,
          0.190768918510149,
          0.19932893194118825,
          0.20513945364211922,
          0.20156470104870328,
          0.24871929426961426,
          0.2414690245621967,
          0.24347426738836678,
          0.2136744660295481,
          0.22142799612229214,
          0.23004223194251114,
          0.24162367378528235,
          0.24417930839645718,
          0.23969614242958798,
          0.23019052295747383,
          0.23195378320751334,
          0.24194012189399255,
          0.27057097197517355,
          0.24838272319030663,
          0.20764168576239622,
          0.19440488409991677,
          0.1834644057610352,
          0.1490024122533447,
          0.15332164617575098,
          0.11142072922582179,
          0.10926239413759128,
          0.10499488151939085,
          0.11452718778856817,
          0.12342235098073144,
          0.11683398636045404,
          0.12660105519344295,
          0.11807669107284402,
          0.10777160842164586,
          0.09660264354685036,
          0.1131435483745296,
          0.11628749360427233,
          0.1702018464490834,
          0.12319421949528322,
          0.028258899554035696,
          0.049159798022690535,
          0.02886105902159612,
          0.035439870570215866,
          0.017101546674858283,
          -0.06463436981733289,
          0.0016496547402711087,
          0.03778699223521313,
          0.02540279530767955,
          0.00486339409396962,
          0.0019528700875512542,
          -0.0056517247410368485,
          -0.05062603181533268,
          -0.041716126335830175,
          -0.0641305365753979,
          -0.04104863368350027,
          -0.06896061390314485,
          -0.12787176595573385,
          -0.08078453799178265,
          -0.09309662389536957,
          -0.17653019370969306,
          -0.07960514732071461,
          -0.043938083780719554,
          -0.07008852721925357,
          -0.06564439254790462,
          -0.01613050455671637,
          -0.056655144765947775,
          -0.05707000940505239,
          -0.049461656033824825,
          -0.06802911687084645,
          -0.055984088040388805,
          -0.05952555923479113,
          -0.035283526586996204,
          -0.012412132290804245,
          -0.07346011828029636,
          -0.06530328806976989,
          -0.026988645460602256,
          -0.03678596633569001,
          -0.021182995179144126,
          -0.027953265906060627,
          -0.060662624690806584,
          -0.02586859353257827,
          -0.0049127385149360485,
          0.00255700581640446,
          -0.03833247848948337,
          -0.08854977119640324,
          -0.058508880153719904,
          -0.0936862519393053,
          -0.0876059211415217,
          -0.1273347700520489,
          -0.09084352927706266,
          -0.08563486824595208,
          -0.06760844697726764,
          -0.06656532892696804,
          -0.09599908713281825,
          -0.0895595121503777,
          -0.05747906539020425,
          -0.05429271697065275,
          -0.0655577214532104,
          -0.07083068825585837,
          -0.07565431331976233,
          -0.06412122240373944,
          -0.1143124717130141,
          -0.1536094262067713,
          -0.13868475665443963,
          -0.0749807037127622,
          -0.09090754950300131,
          -0.09309344615624332,
          -0.07951905576875481,
          -0.09261448462633132,
          -0.11101311104604447,
          -0.08058195927894474,
          -0.11638187985284477,
          -0.11636652286817008,
          -0.10559758667963803,
          -0.08195083889095432,
          -0.060509994951734175,
          0.016086097553720688,
          0.031718349839938986,
          0.003813262885617289,
          0.005469746205434968,
          0.015365616192245843,
          0.09336735860654934,
          0.11172561183832161,
          0.12618591226129128,
          0.10892993528478258,
          0.1177116650728995,
          0.12850818980041837,
          0.1177113753033954,
          0.13050304666392562,
          0.14633045477175288,
          0.1358155973880855,
          0.14745988022937234,
          0.13468173022821245,
          0.13787507623368236,
          0.13853474367913432,
          0.15407946385122434,
          0.1284564716263926,
          0.12115774701837508,
          0.12573911068076668,
          0.14573112341534292,
          0.14520024474241341,
          0.1501380548702899,
          0.14818952867107582,
          0.1168245675333632,
          0.13032714918910376,
          0.10856918868321427,
          0.09740464558405676,
          0.10013003975312398,
          0.10689903969269281,
          0.10466686490965574,
          0.08436990663637385,
          0.08159976306923848,
          0.07957328487666941,
          0.06827493205526568,
          0.07071468524119646,
          0.05403393434720267,
          0.008080370034865877,
          0.03341700045030574,
          0.017344367858244614,
          0.030393319831649526,
          0.009540008949894357,
          0.01894387005426877,
          0.04835742167483566,
          0.04558632674270985,
          0.05868002462800048,
          0.028773153927116293,
          -0.02434319033642603,
          -0.029877427550380063,
          -0.000913515209960164,
          -0.0430109543528724,
          -0.027684151636960697,
          -0.004685709518833778,
          -0.009283779249389841,
          -0.016169211264737617,
          -0.006498767245140738,
          0.01651505999567937,
          -0.009751840919551929,
          -0.0769093930468133,
          -0.0804086309173695,
          -0.06537947077390603,
          -0.06312230784554997,
          -0.020353573615413623,
          -0.02715152182888374,
          -0.041904666171869685,
          -0.03355197864963878,
          -0.009026240785237897,
          -0.017452733738808464,
          -0.011255999250094632,
          0.02119954880302263,
          0.022653289992225947,
          0.016127563984470513,
          0.03716536167379461,
          0.027903176198352163,
          0.00400980220602529,
          0.015434416388331646,
          -0.04488664230806892,
          -0.05685394445813555,
          -0.09909378011264128,
          -0.17008025902579232,
          -0.1322435439725645,
          -0.15021209491285395,
          -0.02876953391880481,
          -0.015319175815031467,
          -0.016398333116307943,
          0.02013129925178954,
          0.030945959100375786,
          0.05209095149117166,
          0.021199839971737817,
          0.0011585291584438988,
          0.024334442105407958,
          0.034265269356198585,
          0.017536537031743325,
          0.03479747828199922,
          0.02671826736041935,
          0.0633611430610338,
          0.07632844770716123,
          0.1378111195285171,
          0.1364906176195578,
          0.13408249658209312,
          0.15666609365222087,
          0.10296870346325365,
          0.09496072502583157,
          0.10106896142361989,
          0.09654443943264604,
          0.09401434049237771,
          0.06612875479829941,
          0.09730148862191149,
          0.0688564459182999,
          0.07826800769532835,
          0.04702766440726283,
          0.007645272218582022,
          0.011184438184895106,
          0.02414865978757798,
          0.06386249169869182,
          0.052828101826416,
          0.058128117343350126,
          0.044458837843802036,
          0.0024080082858196697,
          0.011755334167836428,
          0.02545891714978374,
          0.008725549961265847,
          0.045088156240720045,
          0.06732614518636712,
          0.0463888532118929,
          0.04237681480034111,
          0.03918242054593611,
          0.03517781868282361,
          0.040188291818142166,
          0.05553916860532809,
          0.03751757080238369,
          0.06979146237253571,
          0.0604383633318293,
          0.05896422750447443,
          0.06279413729764863,
          0.0276635822026689,
          -0.011693939765766027,
          -0.015050821762320088,
          -0.012962558998640192,
          0.008566194877994255,
          0.008928263025349508,
          0.020669356639094236,
          0.02993874015765315,
          0.028256590023196,
          0.003311827790790478,
          -0.001765605222698835,
          0.034246138445850886,
          0.04622359889344538,
          0.05163002540883282,
          0.08670986902800583
         ]
        }
       ],
       "layout": {
        "template": {
         "data": {
          "bar": [
           {
            "error_x": {
             "color": "#2a3f5f"
            },
            "error_y": {
             "color": "#2a3f5f"
            },
            "marker": {
             "line": {
              "color": "#E5ECF6",
              "width": 0.5
             },
             "pattern": {
              "fillmode": "overlay",
              "size": 10,
              "solidity": 0.2
             }
            },
            "type": "bar"
           }
          ],
          "barpolar": [
           {
            "marker": {
             "line": {
              "color": "#E5ECF6",
              "width": 0.5
             },
             "pattern": {
              "fillmode": "overlay",
              "size": 10,
              "solidity": 0.2
             }
            },
            "type": "barpolar"
           }
          ],
          "carpet": [
           {
            "aaxis": {
             "endlinecolor": "#2a3f5f",
             "gridcolor": "white",
             "linecolor": "white",
             "minorgridcolor": "white",
             "startlinecolor": "#2a3f5f"
            },
            "baxis": {
             "endlinecolor": "#2a3f5f",
             "gridcolor": "white",
             "linecolor": "white",
             "minorgridcolor": "white",
             "startlinecolor": "#2a3f5f"
            },
            "type": "carpet"
           }
          ],
          "choropleth": [
           {
            "colorbar": {
             "outlinewidth": 0,
             "ticks": ""
            },
            "type": "choropleth"
           }
          ],
          "contour": [
           {
            "colorbar": {
             "outlinewidth": 0,
             "ticks": ""
            },
            "colorscale": [
             [
              0,
              "#0d0887"
             ],
             [
              0.1111111111111111,
              "#46039f"
             ],
             [
              0.2222222222222222,
              "#7201a8"
             ],
             [
              0.3333333333333333,
              "#9c179e"
             ],
             [
              0.4444444444444444,
              "#bd3786"
             ],
             [
              0.5555555555555556,
              "#d8576b"
             ],
             [
              0.6666666666666666,
              "#ed7953"
             ],
             [
              0.7777777777777778,
              "#fb9f3a"
             ],
             [
              0.8888888888888888,
              "#fdca26"
             ],
             [
              1,
              "#f0f921"
             ]
            ],
            "type": "contour"
           }
          ],
          "contourcarpet": [
           {
            "colorbar": {
             "outlinewidth": 0,
             "ticks": ""
            },
            "type": "contourcarpet"
           }
          ],
          "heatmap": [
           {
            "colorbar": {
             "outlinewidth": 0,
             "ticks": ""
            },
            "colorscale": [
             [
              0,
              "#0d0887"
             ],
             [
              0.1111111111111111,
              "#46039f"
             ],
             [
              0.2222222222222222,
              "#7201a8"
             ],
             [
              0.3333333333333333,
              "#9c179e"
             ],
             [
              0.4444444444444444,
              "#bd3786"
             ],
             [
              0.5555555555555556,
              "#d8576b"
             ],
             [
              0.6666666666666666,
              "#ed7953"
             ],
             [
              0.7777777777777778,
              "#fb9f3a"
             ],
             [
              0.8888888888888888,
              "#fdca26"
             ],
             [
              1,
              "#f0f921"
             ]
            ],
            "type": "heatmap"
           }
          ],
          "heatmapgl": [
           {
            "colorbar": {
             "outlinewidth": 0,
             "ticks": ""
            },
            "colorscale": [
             [
              0,
              "#0d0887"
             ],
             [
              0.1111111111111111,
              "#46039f"
             ],
             [
              0.2222222222222222,
              "#7201a8"
             ],
             [
              0.3333333333333333,
              "#9c179e"
             ],
             [
              0.4444444444444444,
              "#bd3786"
             ],
             [
              0.5555555555555556,
              "#d8576b"
             ],
             [
              0.6666666666666666,
              "#ed7953"
             ],
             [
              0.7777777777777778,
              "#fb9f3a"
             ],
             [
              0.8888888888888888,
              "#fdca26"
             ],
             [
              1,
              "#f0f921"
             ]
            ],
            "type": "heatmapgl"
           }
          ],
          "histogram": [
           {
            "marker": {
             "pattern": {
              "fillmode": "overlay",
              "size": 10,
              "solidity": 0.2
             }
            },
            "type": "histogram"
           }
          ],
          "histogram2d": [
           {
            "colorbar": {
             "outlinewidth": 0,
             "ticks": ""
            },
            "colorscale": [
             [
              0,
              "#0d0887"
             ],
             [
              0.1111111111111111,
              "#46039f"
             ],
             [
              0.2222222222222222,
              "#7201a8"
             ],
             [
              0.3333333333333333,
              "#9c179e"
             ],
             [
              0.4444444444444444,
              "#bd3786"
             ],
             [
              0.5555555555555556,
              "#d8576b"
             ],
             [
              0.6666666666666666,
              "#ed7953"
             ],
             [
              0.7777777777777778,
              "#fb9f3a"
             ],
             [
              0.8888888888888888,
              "#fdca26"
             ],
             [
              1,
              "#f0f921"
             ]
            ],
            "type": "histogram2d"
           }
          ],
          "histogram2dcontour": [
           {
            "colorbar": {
             "outlinewidth": 0,
             "ticks": ""
            },
            "colorscale": [
             [
              0,
              "#0d0887"
             ],
             [
              0.1111111111111111,
              "#46039f"
             ],
             [
              0.2222222222222222,
              "#7201a8"
             ],
             [
              0.3333333333333333,
              "#9c179e"
             ],
             [
              0.4444444444444444,
              "#bd3786"
             ],
             [
              0.5555555555555556,
              "#d8576b"
             ],
             [
              0.6666666666666666,
              "#ed7953"
             ],
             [
              0.7777777777777778,
              "#fb9f3a"
             ],
             [
              0.8888888888888888,
              "#fdca26"
             ],
             [
              1,
              "#f0f921"
             ]
            ],
            "type": "histogram2dcontour"
           }
          ],
          "mesh3d": [
           {
            "colorbar": {
             "outlinewidth": 0,
             "ticks": ""
            },
            "type": "mesh3d"
           }
          ],
          "parcoords": [
           {
            "line": {
             "colorbar": {
              "outlinewidth": 0,
              "ticks": ""
             }
            },
            "type": "parcoords"
           }
          ],
          "pie": [
           {
            "automargin": true,
            "type": "pie"
           }
          ],
          "scatter": [
           {
            "fillpattern": {
             "fillmode": "overlay",
             "size": 10,
             "solidity": 0.2
            },
            "type": "scatter"
           }
          ],
          "scatter3d": [
           {
            "line": {
             "colorbar": {
              "outlinewidth": 0,
              "ticks": ""
             }
            },
            "marker": {
             "colorbar": {
              "outlinewidth": 0,
              "ticks": ""
             }
            },
            "type": "scatter3d"
           }
          ],
          "scattercarpet": [
           {
            "marker": {
             "colorbar": {
              "outlinewidth": 0,
              "ticks": ""
             }
            },
            "type": "scattercarpet"
           }
          ],
          "scattergeo": [
           {
            "marker": {
             "colorbar": {
              "outlinewidth": 0,
              "ticks": ""
             }
            },
            "type": "scattergeo"
           }
          ],
          "scattergl": [
           {
            "marker": {
             "colorbar": {
              "outlinewidth": 0,
              "ticks": ""
             }
            },
            "type": "scattergl"
           }
          ],
          "scattermapbox": [
           {
            "marker": {
             "colorbar": {
              "outlinewidth": 0,
              "ticks": ""
             }
            },
            "type": "scattermapbox"
           }
          ],
          "scatterpolar": [
           {
            "marker": {
             "colorbar": {
              "outlinewidth": 0,
              "ticks": ""
             }
            },
            "type": "scatterpolar"
           }
          ],
          "scatterpolargl": [
           {
            "marker": {
             "colorbar": {
              "outlinewidth": 0,
              "ticks": ""
             }
            },
            "type": "scatterpolargl"
           }
          ],
          "scatterternary": [
           {
            "marker": {
             "colorbar": {
              "outlinewidth": 0,
              "ticks": ""
             }
            },
            "type": "scatterternary"
           }
          ],
          "surface": [
           {
            "colorbar": {
             "outlinewidth": 0,
             "ticks": ""
            },
            "colorscale": [
             [
              0,
              "#0d0887"
             ],
             [
              0.1111111111111111,
              "#46039f"
             ],
             [
              0.2222222222222222,
              "#7201a8"
             ],
             [
              0.3333333333333333,
              "#9c179e"
             ],
             [
              0.4444444444444444,
              "#bd3786"
             ],
             [
              0.5555555555555556,
              "#d8576b"
             ],
             [
              0.6666666666666666,
              "#ed7953"
             ],
             [
              0.7777777777777778,
              "#fb9f3a"
             ],
             [
              0.8888888888888888,
              "#fdca26"
             ],
             [
              1,
              "#f0f921"
             ]
            ],
            "type": "surface"
           }
          ],
          "table": [
           {
            "cells": {
             "fill": {
              "color": "#EBF0F8"
             },
             "line": {
              "color": "white"
             }
            },
            "header": {
             "fill": {
              "color": "#C8D4E3"
             },
             "line": {
              "color": "white"
             }
            },
            "type": "table"
           }
          ]
         },
         "layout": {
          "annotationdefaults": {
           "arrowcolor": "#2a3f5f",
           "arrowhead": 0,
           "arrowwidth": 1
          },
          "autotypenumbers": "strict",
          "coloraxis": {
           "colorbar": {
            "outlinewidth": 0,
            "ticks": ""
           }
          },
          "colorscale": {
           "diverging": [
            [
             0,
             "#8e0152"
            ],
            [
             0.1,
             "#c51b7d"
            ],
            [
             0.2,
             "#de77ae"
            ],
            [
             0.3,
             "#f1b6da"
            ],
            [
             0.4,
             "#fde0ef"
            ],
            [
             0.5,
             "#f7f7f7"
            ],
            [
             0.6,
             "#e6f5d0"
            ],
            [
             0.7,
             "#b8e186"
            ],
            [
             0.8,
             "#7fbc41"
            ],
            [
             0.9,
             "#4d9221"
            ],
            [
             1,
             "#276419"
            ]
           ],
           "sequential": [
            [
             0,
             "#0d0887"
            ],
            [
             0.1111111111111111,
             "#46039f"
            ],
            [
             0.2222222222222222,
             "#7201a8"
            ],
            [
             0.3333333333333333,
             "#9c179e"
            ],
            [
             0.4444444444444444,
             "#bd3786"
            ],
            [
             0.5555555555555556,
             "#d8576b"
            ],
            [
             0.6666666666666666,
             "#ed7953"
            ],
            [
             0.7777777777777778,
             "#fb9f3a"
            ],
            [
             0.8888888888888888,
             "#fdca26"
            ],
            [
             1,
             "#f0f921"
            ]
           ],
           "sequentialminus": [
            [
             0,
             "#0d0887"
            ],
            [
             0.1111111111111111,
             "#46039f"
            ],
            [
             0.2222222222222222,
             "#7201a8"
            ],
            [
             0.3333333333333333,
             "#9c179e"
            ],
            [
             0.4444444444444444,
             "#bd3786"
            ],
            [
             0.5555555555555556,
             "#d8576b"
            ],
            [
             0.6666666666666666,
             "#ed7953"
            ],
            [
             0.7777777777777778,
             "#fb9f3a"
            ],
            [
             0.8888888888888888,
             "#fdca26"
            ],
            [
             1,
             "#f0f921"
            ]
           ]
          },
          "colorway": [
           "#636efa",
           "#EF553B",
           "#00cc96",
           "#ab63fa",
           "#FFA15A",
           "#19d3f3",
           "#FF6692",
           "#B6E880",
           "#FF97FF",
           "#FECB52"
          ],
          "font": {
           "color": "#2a3f5f"
          },
          "geo": {
           "bgcolor": "white",
           "lakecolor": "white",
           "landcolor": "#E5ECF6",
           "showlakes": true,
           "showland": true,
           "subunitcolor": "white"
          },
          "hoverlabel": {
           "align": "left"
          },
          "hovermode": "closest",
          "mapbox": {
           "style": "light"
          },
          "paper_bgcolor": "white",
          "plot_bgcolor": "#E5ECF6",
          "polar": {
           "angularaxis": {
            "gridcolor": "white",
            "linecolor": "white",
            "ticks": ""
           },
           "bgcolor": "#E5ECF6",
           "radialaxis": {
            "gridcolor": "white",
            "linecolor": "white",
            "ticks": ""
           }
          },
          "scene": {
           "xaxis": {
            "backgroundcolor": "#E5ECF6",
            "gridcolor": "white",
            "gridwidth": 2,
            "linecolor": "white",
            "showbackground": true,
            "ticks": "",
            "zerolinecolor": "white"
           },
           "yaxis": {
            "backgroundcolor": "#E5ECF6",
            "gridcolor": "white",
            "gridwidth": 2,
            "linecolor": "white",
            "showbackground": true,
            "ticks": "",
            "zerolinecolor": "white"
           },
           "zaxis": {
            "backgroundcolor": "#E5ECF6",
            "gridcolor": "white",
            "gridwidth": 2,
            "linecolor": "white",
            "showbackground": true,
            "ticks": "",
            "zerolinecolor": "white"
           }
          },
          "shapedefaults": {
           "line": {
            "color": "#2a3f5f"
           }
          },
          "ternary": {
           "aaxis": {
            "gridcolor": "white",
            "linecolor": "white",
            "ticks": ""
           },
           "baxis": {
            "gridcolor": "white",
            "linecolor": "white",
            "ticks": ""
           },
           "bgcolor": "#E5ECF6",
           "caxis": {
            "gridcolor": "white",
            "linecolor": "white",
            "ticks": ""
           }
          },
          "title": {
           "x": 0.05
          },
          "xaxis": {
           "automargin": true,
           "gridcolor": "white",
           "linecolor": "white",
           "ticks": "",
           "title": {
            "standoff": 15
           },
           "zerolinecolor": "white",
           "zerolinewidth": 2
          },
          "yaxis": {
           "automargin": true,
           "gridcolor": "white",
           "linecolor": "white",
           "ticks": "",
           "title": {
            "standoff": 15
           },
           "zerolinecolor": "white",
           "zerolinewidth": 2
          }
         }
        },
        "title": {
         "text": "Equity Curve of Trading Strategy"
        },
        "xaxis": {
         "title": {
          "text": "Days"
         }
        },
        "yaxis": {
         "title": {
          "text": "Cumulative Returns"
         }
        }
       }
      }
     },
     "metadata": {},
     "output_type": "display_data"
    }
   ],
   "source": [
    "def generate_signals(actual_prices, predicted_prices):\n",
    "    \"\"\"\n",
    "    Generate trading signals based on actual vs predicted prices.\n",
    "    Buy if the predicted price > actual price, otherwise sell.\n",
    "    \"\"\"\n",
    "    signals = np.where(predicted_prices.flatten() > actual_prices, 1, -1)  # 1: Buy, -1: Sell\n",
    "    return signals\n",
    "\n",
    "def calculate_daily_returns(signals, actual_prices):\n",
    "    \"\"\"\n",
    "    Calculate daily returns based on trading signals.\n",
    "    \"\"\"\n",
    "    returns = np.diff(actual_prices) / actual_prices[:-1]  # Calculate daily returns\n",
    "    strategy_returns = returns * signals[:-1]  # Apply signals to returns\n",
    "    return strategy_returns\n",
    "\n",
    "def plot_equity_curve(strategy_returns):\n",
    "    cumulative_returns = np.cumsum(strategy_returns)\n",
    "\n",
    "    fig = go.Figure()\n",
    "    fig.add_trace(go.Scatter(y=cumulative_returns, mode='lines', name='Equity Curve'))\n",
    "    fig.update_layout(\n",
    "        title='Equity Curve of Trading Strategy',\n",
    "        xaxis_title='Days',\n",
    "        yaxis_title='Cumulative Returns'\n",
    "    )\n",
    "    fig.show()\n",
    "\n",
    "# Generate signals and calculate returns\n",
    "signals = generate_signals(actual_prices, prediction_prices)\n",
    "strategy_returns = calculate_daily_returns(signals, actual_prices)\n",
    "\n",
    "# Plot the equity curve\n",
    "plot_equity_curve(strategy_returns)"
   ]
  },
  {
   "cell_type": "markdown",
   "metadata": {},
   "source": [
    "### MAXIMUM DRAWDOWN"
   ]
  },
  {
   "cell_type": "code",
   "execution_count": 62,
   "metadata": {},
   "outputs": [
    {
     "name": "stdout",
     "output_type": "stream",
     "text": [
      "0.8339900882218974\n",
      "Maximum Drawdown: 83.40%\n"
     ]
    },
    {
     "data": {
      "image/png": "[encoded data removed]",
      "text/plain": [
       "<Figure size 1000x600 with 2 Axes>"
      ]
     },
     "metadata": {},
     "output_type": "display_data"
    }
   ],
   "source": [
    "df['Peak Value'] = df['Close'].cummax()\n",
    "\n",
    "# Calculate drawdown at each point (as a percentage)\n",
    "df['Drawdown'] = (df['Peak Value'] - df['Close']) / df['Peak Value']\n",
    "\n",
    "# Find the maximum drawdown\n",
    "max_drawdown = df['Drawdown'].max()\n",
    "\n",
    "print(max_drawdown)\n",
    "\n",
    "print(f'Maximum Drawdown: {max_drawdown * 100:.2f}%')\n",
    "\n",
    "# Plotting the equity curve (or Bitcoin price) and the drawdown\n",
    "fig, (ax1, ax2) = plt.subplots(2, 1, figsize=(10, 6), sharex=True)\n",
    "\n",
    "# Plot equity curve or Bitcoin prices\n",
    "ax1.plot(df['Close'], label='Equity Curve / Bitcoin Price', color='blue')\n",
    "ax1.set_title('Equity Curve / Bitcoin Price')\n",
    "ax1.set_ylabel('Value')\n",
    "ax1.legend(loc='upper left')\n",
    "\n",
    "# Plot drawdown curve\n",
    "ax2.plot(df['Drawdown'] * 100, label='Drawdown (%)', color='red')\n",
    "ax2.set_title('Drawdown')\n",
    "ax2.set_xlabel('Time')\n",
    "ax2.set_ylabel('Drawdown (%)')\n",
    "ax2.legend(loc='upper left')\n",
    "\n",
    "plt.tight_layout()\n",
    "plt.show()"
   ]
  },
  {
   "cell_type": "markdown",
   "metadata": {},
   "source": [
    "### Return on Investment"
   ]
  },
  {
   "cell_type": "code",
   "execution_count": 63,
   "metadata": {},
   "outputs": [
    {
     "name": "stdout",
     "output_type": "stream",
     "text": [
      "Initial Value: $314.25\n",
      "Final Value: $65174.84\n",
      "Return on Investment (ROI): 20639.87%\n"
     ]
    }
   ],
   "source": [
    "initial_value = df['Close'].iloc[0]  # First closing price in the period\n",
    "final_value = df['Close'].iloc[-1]   # Last closing price in the period\n",
    "\n",
    "# Calculate ROI\n",
    "roi = ((final_value - initial_value) / initial_value) * 100\n",
    "\n",
    "# Display Results\n",
    "print(f\"Initial Value: ${initial_value:.2f}\")\n",
    "print(f\"Final Value: ${final_value:.2f}\")\n",
    "print(f\"Return on Investment (ROI): {roi:.2f}%\")"
   ]
  },
  {
   "cell_type": "markdown",
   "metadata": {},
   "source": [
    "### Predict Next Day"
   ]
  },
  {
   "cell_type": "code",
   "execution_count": 64,
   "metadata": {},
   "outputs": [
    {
     "name": "stdout",
     "output_type": "stream",
     "text": [
      "1/1 [==============================] - 0s 33ms/step\n"
     ]
    }
   ],
   "source": [
    "# real_data = [model_inputs[len(model_inputs) + 1 - prediction_days : len(model_inputs) + 1 , 0]]\n",
    "# real_data = np.array(real_data)\n",
    "# real_data = np.reshape(real_data, (real_data.shape[0], real_data.shape[1], 1))\n",
    "\n",
    "real_data = model_inputs[-prediction_days:].reshape(1, prediction_days, 1)\n",
    "prediction = model.predict(real_data)"
   ]
  },
  {
   "cell_type": "code",
   "execution_count": 65,
   "metadata": {},
   "outputs": [
    {
     "name": "stderr",
     "output_type": "stream",
     "text": [
      "C:\\Users\\Vaishali Premani\\AppData\\Local\\Temp\\ipykernel_24316\\1640315895.py:6: DeprecationWarning:\n",
      "\n",
      "Conversion of an array with ndim > 0 to a scalar is deprecated, and will error in future. Ensure you extract a single element from your array before performing this operation. (Deprecated NumPy 1.25.)\n",
      "\n"
     ]
    }
   ],
   "source": [
    "# prediction = model.predict(real_data)\n",
    "# prediction = scaler.inverse_transform(prediction)\n",
    "# print(prediction)\n",
    "\n",
    "placeholder = np.zeros((1, model_inputs.shape[1]))  # Shape: (1, 1)\n",
    "placeholder[0, 0] = prediction  # Insert predicted 'Close' price\n",
    "\n",
    "prediction = scaler.inverse_transform(placeholder)[0, 0]\n"
   ]
  },
  {
   "cell_type": "code",
   "execution_count": 67,
   "metadata": {},
   "outputs": [
    {
     "name": "stdout",
     "output_type": "stream",
     "text": [
      "Predicted Bitcoin Price for Next Day: $61534.37\n"
     ]
    }
   ],
   "source": [
    "print(f\"Predicted Bitcoin Price for Next Day: ${prediction:.2f}\")"
   ]
  },
  {
   "cell_type": "code",
   "execution_count": null,
   "metadata": {},
   "outputs": [],
   "source": []
  }
 ],
 "metadata": {
  "kernelspec": {
   "display_name": "Python 3",
   "language": "python",
   "name": "python3"
  },
  "language_info": {
   "codemirror_mode": {
    "name": "ipython",
    "version": 3
   },
   "file_extension": ".py",
   "mimetype": "text/x-python",
   "name": "python",
   "nbconvert_exporter": "python",
   "pygments_lexer": "ipython3",
   "version": "3.11.5"
  }
 },
 "nbformat": 4,
 "nbformat_minor": 2
}
